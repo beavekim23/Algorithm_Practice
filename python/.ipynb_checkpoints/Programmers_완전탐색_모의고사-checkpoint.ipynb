{
 "cells": [
  {
   "cell_type": "markdown",
   "metadata": {},
   "source": [
    "# 모의고사\n",
    "> [출처](https://programmers.co.kr/learn/courses/30/lessons/42840)   \n",
    "\n",
    "수포자는 수학을 포기한 사람의 준말입니다. 수포자 삼인방은 모의고사에 수학 문제를 전부 찍으려 합니다. 수포자는 1번 문제부터 마지막 문제까지 다음과 같이 찍습니다.  \n",
    "\n",
    "1번 수포자가 찍는 방식: 1, 2, 3, 4, 5, 1, 2, 3, 4, 5, ...  \n",
    "2번 수포자가 찍는 방식: 2, 1, 2, 3, 2, 4, 2, 5, 2, 1, 2, 3, 2, 4, 2, 5, ...  \n",
    "3번 수포자가 찍는 방식: 3, 3, 1, 1, 2, 2, 4, 4, 5, 5, 3, 3, 1, 1, 2, 2, 4, 4, 5, 5, ...  \n",
    "\n",
    "1번 문제부터 마지막 문제까지의 정답이 순서대로 들은 배열 answers가 주어졌을 때, 가장 많은 문제를 맞힌 사람이 누구인지 배열에 담아 return 하도록 solution 함수를 작성해주세요.  \n",
    "\n",
    "제한 조건  \n",
    "- 시험은 최대 10,000 문제로 구성되어있습니다.  \n",
    "- 문제의 정답은 1, 2, 3, 4, 5중 하나입니다.  \n",
    "- 가장 높은 점수를 받은 사람이 여럿일 경우, return하는 값을 오름차순 정렬해주세요."
   ]
  },
  {
   "cell_type": "markdown",
   "metadata": {},
   "source": [
    "## 완전탐색이란?\n",
    "- 가능한 모든 경우의 수를 만들어 비교하는 방법을 말함  \n",
    "- 유형 세가지    \n",
    "  1. 모든 순열 만들기  .\n",
    "  2. 모든 조합 만들기.  \n",
    "  3. 부분 집합 만들기."
   ]
  },
  {
   "cell_type": "markdown",
   "metadata": {},
   "source": [
    "## 문제 해결 방법\n",
    "- score = [0,0,0]을 만들어 세 사람의 점수를 기록함  \n",
    "- 일일히 비교해서 정답만큼 카운트 해서 score에 +=1"
   ]
  },
  {
   "cell_type": "code",
   "execution_count": 10,
   "metadata": {},
   "outputs": [
    {
     "data": {
      "text/plain": [
       "[1]"
      ]
     },
     "execution_count": 10,
     "metadata": {},
     "output_type": "execute_result"
    }
   ],
   "source": [
    "answers = [1, 2, 3, 4, 5]\n",
    "\n",
    "scores = [0, 0, 0]\n",
    "answer = []\n",
    "\n",
    "arr1 = [1,2,3,4,5]\n",
    "arr2 = [2,1,2,3,2,4,2,5]\n",
    "arr3 = [3,3,1,1,2,2,4,4,5,5]\n",
    "\n",
    "for i in range(len(answers)):\n",
    "    if answers[i] == arr1[i%len(arr1)]:\n",
    "        scores[0] += 1\n",
    "    if answers[i] == arr2[i%len(arr2)]:\n",
    "        scores[1] += 1\n",
    "    if answers[i] == arr3[i%len(arr3)]:\n",
    "        scores[2] += 1\n",
    "        \n",
    "m = max(scores)\n",
    "for idx, score in enumerate(scores):\n",
    "    if score == m:\n",
    "        answer.append(idx+1)\n",
    "        \n",
    "answer"
   ]
  },
  {
   "cell_type": "markdown",
   "metadata": {},
   "source": [
    "## 나의 답"
   ]
  },
  {
   "cell_type": "code",
   "execution_count": 11,
   "metadata": {},
   "outputs": [],
   "source": [
    "def solution(answers):\n",
    "    scores = [0, 0, 0]\n",
    "    answer = []\n",
    "\n",
    "    arr1 = [1,2,3,4,5]\n",
    "    arr2 = [2,1,2,3,2,4,2,5]\n",
    "    arr3 = [3,3,1,1,2,2,4,4,5,5]\n",
    "\n",
    "    for i in range(len(answers)):\n",
    "        if answers[i] == arr1[i%len(arr1)]:\n",
    "            scores[0] += 1\n",
    "        if answers[i] == arr2[i%len(arr2)]:\n",
    "            scores[1] += 1\n",
    "        if answers[i] == arr3[i%len(arr3)]:\n",
    "            scores[2] += 1\n",
    "\n",
    "    m = max(scores)\n",
    "    for idx, score in enumerate(scores):\n",
    "        if score == m:\n",
    "            answer.append(idx+1)\n",
    "\n",
    "    return answer"
   ]
  },
  {
   "cell_type": "code",
   "execution_count": 12,
   "metadata": {},
   "outputs": [
    {
     "name": "stdout",
     "output_type": "stream",
     "text": [
      "[1]\n"
     ]
    }
   ],
   "source": [
    "#for check\n",
    "answers = [1,2,3,4,5]\n",
    "print(solution(answers))"
   ]
  }
 ],
 "metadata": {
  "kernelspec": {
   "display_name": "Python 3",
   "language": "python",
   "name": "python3"
  },
  "language_info": {
   "codemirror_mode": {
    "name": "ipython",
    "version": 3
   },
   "file_extension": ".py",
   "mimetype": "text/x-python",
   "name": "python",
   "nbconvert_exporter": "python",
   "pygments_lexer": "ipython3",
   "version": "3.6.5"
  }
 },
 "nbformat": 4,
 "nbformat_minor": 2
}
