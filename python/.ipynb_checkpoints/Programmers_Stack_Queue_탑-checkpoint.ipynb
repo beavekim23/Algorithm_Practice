{
 "cells": [
  {
   "cell_type": "markdown",
   "metadata": {},
   "source": [
    "# 탑\n",
    "> [출처](https://programmers.co.kr/learn/courses/30/lessons/42588)  \n",
    "\n",
    "수평 직선에 탑 N대를 세웠습니다. 모든 탑의 꼭대기에는 신호를 송/수신하는 장치를 설치했습니다. 발사한 신호는 신호를 보낸 탑보다 높은 탑에서만 수신합니다. 또한, 한 번 수신된 신호는 다른 탑으로 송신되지 않습니다.  \n",
    "\n",
    "예를 들어 높이가 6, 9, 5, 7, 4인 다섯 탑이 왼쪽으로 동시에 레이저 신호를 발사합니다. 그러면, 탑은 다음과 같이 신호를 주고받습니다. 높이가 4인 다섯 번째 탑에서 발사한 신호는 높이가 7인 네 번째 탑이 수신하고, 높이가 7인 네 번째 탑의 신호는 높이가 9인 두 번째 탑이, 높이가 5인 세 번째 탑의 신호도 높이가 9인 두 번째 탑이 수신합니다. 높이가 9인 두 번째 탑과 높이가 6인 첫 번째 탑이 보낸 레이저 신호는 어떤 탑에서도 수신할 수 없습니다.  \n",
    "\n",
    "맨 왼쪽부터 순서대로 탑의 높이를 담은 배열 heights가 매개변수로 주어질 때 각 탑이 쏜 신호를 어느 탑에서 받았는지 기록한 배열을 return 하도록 solution 함수를 작성해주세요.  \n",
    "\n",
    "제한 사항  \n",
    "- heights는 길이 2 이상 100 이하인 정수 배열입니다.  \n",
    "- 모든 탑의 높이는 1 이상 100 이하입니다.  \n",
    "- 신호를 수신하는 탑이 없으면 0으로 표시합니다."
   ]
  },
  {
   "cell_type": "markdown",
   "metadata": {},
   "source": [
    "## 예제 풀이\n",
    "Given that heights = [6,9,5,7,4] , 왼쪽으로 동시에 신호 발사  \n",
    "$\\Rightarrow$ [0,0,2,2,4]  \n",
    "\n",
    "- N크기의 result를 list의 형태로 얻게 됨  "
   ]
  },
  {
   "cell_type": "markdown",
   "metadata": {},
   "source": [
    "## 문제 해결 방법\n",
    "- answer=[]로 두고  \n",
    "- 자기보다 왼쪽에 있는 수가 더 크면 answer[자기자리]=[그인덱스] + 1 로 채워줌  \n",
    "- loop를 어떻게 쓸 것인가  "
   ]
  },
  {
   "cell_type": "code",
   "execution_count": 13,
   "metadata": {},
   "outputs": [
    {
     "data": {
      "text/plain": [
       "[0, 0, 2, 2, 4]"
      ]
     },
     "execution_count": 13,
     "metadata": {},
     "output_type": "execute_result"
    }
   ],
   "source": [
    "heights = [6,9,5,7,4]\n",
    "\n",
    "answer = [0]*len(heights)\n",
    "for i in range(len(heights)-1, 0, -1):\n",
    "    for j in range(i-1,-1,-1):\n",
    "        if heights[i] < heights[j]:\n",
    "            answer[i] = j+1\n",
    "            break\n",
    "\n",
    "answer"
   ]
  },
  {
   "cell_type": "markdown",
   "metadata": {},
   "source": [
    "## 나의 풀이"
   ]
  },
  {
   "cell_type": "code",
   "execution_count": 14,
   "metadata": {},
   "outputs": [],
   "source": [
    "def solution(heights):\n",
    "    answer = [0]*len(heights)\n",
    "    for i in range(len(heights)-1,0,-1):\n",
    "        for j in range(i-1,-1,-1):\n",
    "            if heights[i] < heights[j]:\n",
    "                answer[i] = j+1\n",
    "                break\n",
    "                \n",
    "    return answer"
   ]
  },
  {
   "cell_type": "code",
   "execution_count": 15,
   "metadata": {},
   "outputs": [
    {
     "name": "stdout",
     "output_type": "stream",
     "text": [
      "[0, 0, 2, 0, 0, 5, 6]\n"
     ]
    }
   ],
   "source": [
    "# for check\n",
    "heights = [1,5,3,6,7,6,5]\n",
    "print(solution(heights))"
   ]
  }
 ],
 "metadata": {
  "kernelspec": {
   "display_name": "Python 3",
   "language": "python",
   "name": "python3"
  },
  "language_info": {
   "codemirror_mode": {
    "name": "ipython",
    "version": 3
   },
   "file_extension": ".py",
   "mimetype": "text/x-python",
   "name": "python",
   "nbconvert_exporter": "python",
   "pygments_lexer": "ipython3",
   "version": "3.6.5"
  }
 },
 "nbformat": 4,
 "nbformat_minor": 2
}
