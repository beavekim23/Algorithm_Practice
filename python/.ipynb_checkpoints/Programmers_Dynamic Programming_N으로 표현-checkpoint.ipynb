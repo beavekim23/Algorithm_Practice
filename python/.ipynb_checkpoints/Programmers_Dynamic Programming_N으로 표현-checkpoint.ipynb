{
 "cells": [
  {
   "cell_type": "markdown",
   "metadata": {},
   "source": [
    "# N으로 표현  \n",
    "> [출처](https://programmers.co.kr/learn/courses/30/lessons/42895)  \n",
    "\n",
    "아래와 같이 5와 사칙연산만으로 12를 표현할 수 있습니다.  \n",
    "\n",
    "12 = 5 + 5 + (5 / 5) + (5 / 5)  \n",
    "12 = 55 / 5 + 5 / 5  \n",
    "12 = (55 + 5) / 5  \n",
    "\n",
    "5를 사용한 횟수는 각각 6,5,4 입니다. 그리고 이중 가장 작은 경우는 4입니다.  \n",
    "이처럼 숫자 N과 number가 주어질 때, N과 사칙연산만 사용해서 표현 할 수 있는 방법 중 N 사용횟수의 최솟값을 return 하도록 solution 함수를 작성하세요.  \n",
    "\n",
    "제한사항  \n",
    "- N은 1 이상 9 이하입니다.  \n",
    "- number는 1 이상 32,000 이하입니다.  \n",
    "- 수식에는 괄호와 사칙연산만 가능하며 나누기 연산에서 나머지는 무시합니다.  \n",
    "- 최솟값이 8보다 크면 -1을 return 합니다."
   ]
  },
  {
   "cell_type": "code",
   "execution_count": 1,
   "metadata": {},
   "outputs": [
    {
     "data": {
      "text/plain": [
       "[set(), set(), set(), set(), set(), set(), set(), set()]"
      ]
     },
     "execution_count": 1,
     "metadata": {},
     "output_type": "execute_result"
    }
   ],
   "source": [
    "s = [set() for x in range(8)]\n",
    "s"
   ]
  },
  {
   "cell_type": "markdown",
   "metadata": {},
   "source": [
    "## 문제 살펴보기  \n",
    "- 최솟값이 8까지이므로 총 단계가 8을 넘지 않는다 $\\Rightarrow$ 경우의 수를 8단계까지만 구하면 된다  \n",
    "- 순서쌍 중복 제거하기 위해 set사용  \n",
    "- 나머지는 무시하라 $\\Rightarrow$ 나누기 연산은 divisor가 !=0 이면 // 적용 "
   ]
  },
  {
   "cell_type": "markdown",
   "metadata": {},
   "source": [
    "## 예시 살펴보기  \n",
    "N = 5, number = 12  \n",
    "1. 만들 수 있는 경우의 수 살펴보기  \n",
    "사용횟수=1 $\\rightarrow$ 5  \n",
    "사용횟수=2 $\\rightarrow$ 55, (1개의 5와 1개의 5의 사칙연산 결과) "
   ]
  },
  {
   "cell_type": "markdown",
   "metadata": {},
   "source": [
    "## 문제 해결 방향  \n",
    "- 8단계까지의 모든 경우의 수를 set으로 해서 list에 넣음(list[0]은 1단계에서의 경우의 수)\n",
    "- 단계가 8까지 진행되므로 for i in range(8)로 loop 잡기  \n",
    "- 단계 별로 경우의 수 추가해 나가면서 i단계에 해당 number가 안에 있으면 answer = i+1 되고 break  \n",
    "- for loop에서 안 끝난 경우는 8단계에서 안 나온 경우이므로 answer=-1"
   ]
  },
  {
   "cell_type": "code",
   "execution_count": 5,
   "metadata": {},
   "outputs": [
    {
     "data": {
      "text/plain": [
       "[{2}, {22}, {222}, {2222}, {22222}, {222222}, {2222222}, {22222222}]"
      ]
     },
     "execution_count": 5,
     "metadata": {},
     "output_type": "execute_result"
    }
   ],
   "source": [
    "N = 2\n",
    "number = 11\n",
    "# 답 3\n",
    "\n",
    "#일단 set이 들은 list 만들기\n",
    "s = [set() for x in range(8)]\n",
    "\n",
    "#여기에 각각 첫번째 경우인 자기자신 이어붙인 경우 add\n",
    "for i, x in enumerate(s, start=1):\n",
    "    x.add(int(str(N)*i))\n",
    "    \n",
    "s"
   ]
  },
  {
   "cell_type": "code",
   "execution_count": 7,
   "metadata": {},
   "outputs": [
    {
     "data": {
      "text/plain": [
       "3"
      ]
     },
     "execution_count": 7,
     "metadata": {},
     "output_type": "execute_result"
    }
   ],
   "source": [
    "N = 2\n",
    "number = 11\n",
    "# 답 3\n",
    "\n",
    "#일단 set이 들은 list 만들기\n",
    "s = [set() for x in range(8)]\n",
    "\n",
    "#여기에 각각 첫번째 경우인 자기자신 이어붙인 경우 add\n",
    "for i, x in enumerate(s, start=1):\n",
    "    x.add(int(str(N)*i))\n",
    "    \n",
    "#마지막으로 재귀형태 구성해서 추가\n",
    "for i in range(1, 8):#i는 단계\n",
    "    for j in range(i):\n",
    "        for op1 in s[j]:\n",
    "            for op2 in s[i-j-1]:\n",
    "                s[i].add(op1+op2)\n",
    "                s[i].add(op1-op2)\n",
    "                s[i].add(op1*op2)\n",
    "                if op2 != 0:\n",
    "                    s[i].add(op1//op2)\n",
    "    if number in s[i]:\n",
    "        answer = i + 1\n",
    "        break\n",
    "\n",
    "#for loop에 들어가지 않은 경우, 즉 8단계 안에 number을 구성하지 못한경우, answer = -1        \n",
    "else:\n",
    "    answer = -1\n",
    "        \n",
    "answer"
   ]
  },
  {
   "cell_type": "markdown",
   "metadata": {},
   "source": [
    "## 나의 답"
   ]
  },
  {
   "cell_type": "code",
   "execution_count": 15,
   "metadata": {},
   "outputs": [],
   "source": [
    "def solution(N, number):\n",
    "    s = [set() for x in range(8)]\n",
    "    \n",
    "    s = [set() for x in range(8)]\n",
    "\n",
    "    for i, x in enumerate(s, start=1):\n",
    "        x.add(int(str(N)*i))\n",
    "\n",
    "    for i in range(1, 8):#i는 단계\n",
    "        for j in range(i):\n",
    "            for op1 in s[j]:\n",
    "                for op2 in s[i-j-1]:\n",
    "                    s[i].add(op1+op2)\n",
    "                    s[i].add(op1-op2)\n",
    "                    s[i].add(op1*op2)\n",
    "                    if op2 != 0:\n",
    "                        s[i].add(op1//op2)\n",
    "        if number in s[i]:\n",
    "            answer = i + 1\n",
    "            break\n",
    "\n",
    "    else:\n",
    "        answer = -1\n",
    "\n",
    "    return answer"
   ]
  },
  {
   "cell_type": "code",
   "execution_count": 16,
   "metadata": {},
   "outputs": [
    {
     "data": {
      "text/plain": [
       "4"
      ]
     },
     "execution_count": 16,
     "metadata": {},
     "output_type": "execute_result"
    }
   ],
   "source": [
    "N = 5\n",
    "number = 12\n",
    "\n",
    "solution(5,12)"
   ]
  }
 ],
 "metadata": {
  "kernelspec": {
   "display_name": "Python 3",
   "language": "python",
   "name": "python3"
  },
  "language_info": {
   "codemirror_mode": {
    "name": "ipython",
    "version": 3
   },
   "file_extension": ".py",
   "mimetype": "text/x-python",
   "name": "python",
   "nbconvert_exporter": "python",
   "pygments_lexer": "ipython3",
   "version": "3.6.5"
  }
 },
 "nbformat": 4,
 "nbformat_minor": 2
}
