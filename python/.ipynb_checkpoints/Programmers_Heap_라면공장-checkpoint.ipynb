{
 "cells": [
  {
   "cell_type": "markdown",
   "metadata": {},
   "source": [
    "# 라면공장  \n",
    "> [출처](https://programmers.co.kr/learn/courses/30/lessons/42629)\n",
    "\n",
    "라면 공장에서는 하루에 밀가루를 1톤씩 사용합니다. 원래 밀가루를 공급받던 공장의 고장으로 앞으로 k일 이후에야 밀가루를 공급받을 수 있기 때문에 해외 공장에서 밀가루를 수입해야 합니다.\n",
    "\n",
    "해외 공장에서는 향후 밀가루를 공급할 수 있는 날짜와 수량을 알려주었고, 라면 공장에서는 운송비를 줄이기 위해 최소한의 횟수로 밀가루를 공급받고 싶습니다.\n",
    "\n",
    "현재 공장에 남아있는 밀가루 수량 stock, 밀가루 공급 일정(dates)과 해당 시점에 공급 가능한 밀가루 수량(supplies), 원래 공장으로부터 공급받을 수 있는 시점 k가 주어질 때, 밀가루가 떨어지지 않고 공장을 운영하기 위해서 최소한 몇 번 해외 공장으로부터 밀가루를 공급받아야 하는지를 return 하도록 solution 함수를 완성하세요.\n",
    "\n",
    "dates[i]에는 i번째 공급 가능일이 들어있으며, supplies[i]에는 dates[i] 날짜에 공급 가능한 밀가루 수량이 들어 있습니다.\n",
    "\n",
    "제한사항  \n",
    "- stock에 있는 밀가루는 오늘(0일 이후)부터 사용됩니다.  \n",
    "- stock과 k는 2 이상 100,000 이하입니다.  \n",
    "- dates의 각 원소는 1 이상 k 이하입니다.  \n",
    "- supplies의 각 원소는 1 이상 1,000 이하입니다.  \n",
    "- dates와 supplies의 길이는 1 이상 20,000 이하입니다.  \n",
    "- k일 째에는 밀가루가 충분히 공급되기 때문에 k-1일에 사용할 수량까지만 확보하면 됩니다.  \n",
    "- dates에 들어있는 날짜는 오름차순 정렬되어 있습니다.  \n",
    "- dates에 들어있는 날짜에 공급되는 밀가루는 작업 시작 전 새벽에 공급되는 것을 기준으로 합니다. 예를 들어 9일째에 밀가루가 바닥나더라도, 10일째에 공급받으면 10일째에는 공장을 운영할 수 있습니다.  \n",
    "- 밀가루가 바닥나는 경우는 주어지지 않습니다."
   ]
  },
  {
   "cell_type": "markdown",
   "metadata": {},
   "source": [
    "## 문제 살펴보기\n",
    "\n",
    "- stock의 합이 k를 넘어가면 공급을 받지 않아도 된다  \n",
    "  - while의 조건을 stock < k로   \n",
    "- 예시를 보면 초기 stock이 4이므로 dates의 4일째에 20을 받아야한다  \n",
    "- 공급 받는 날을 줄이려면 한 번 받을 때 가장 많은 양을 받아오는 것이 유리하다  \n",
    "- stock에 따라서 받을 수 있는 공급들을 리스트에 담고 인덱스를 저장한다. 그리고 이 리스트 중에서 가장 많은 공급의 양을 빼서 stock에 더한다.  \n",
    "  - 이 때 heap을 사용해 max값 지정\n",
    "- 최대힙 구하기:   \n",
    "  - heapq.heappush(heap,(-supplies[i],supplies[i])) 같이 넣고 heapq.heappop(heap)[1] 로 뺀다"
   ]
  },
  {
   "cell_type": "code",
   "execution_count": 8,
   "metadata": {},
   "outputs": [],
   "source": [
    "import heapq"
   ]
  },
  {
   "cell_type": "code",
   "execution_count": 11,
   "metadata": {},
   "outputs": [],
   "source": [
    "import heapq\n",
    "def solution(stock, dates, supplies, k):\n",
    "    answer = 0\n",
    "    day = 0 #n째 날\n",
    "    h=[]\n",
    "    while(stock<k):\n",
    "        for i in range(day,len(dates)):\n",
    "            if dates[i]<=stock:\n",
    "                heapq.heappush(h,(-supplies[i],supplies[i]))\n",
    "                day=i+1\n",
    "            else:\n",
    "                break\n",
    "        stock+=heapq.heappop(h)[1]\n",
    "        answer+=1\n",
    "    return answer\n"
   ]
  },
  {
   "cell_type": "code",
   "execution_count": 12,
   "metadata": {},
   "outputs": [
    {
     "data": {
      "text/plain": [
       "2"
      ]
     },
     "execution_count": 12,
     "metadata": {},
     "output_type": "execute_result"
    }
   ],
   "source": [
    "#for check\n",
    "stock = 4\n",
    "dates = [4,10,15]\n",
    "supplies = [20,5,10]\n",
    "k=30\n",
    "\n",
    "solution(stock, dates, supplies,k) #2"
   ]
  }
 ],
 "metadata": {
  "kernelspec": {
   "display_name": "Python 3",
   "language": "python",
   "name": "python3"
  },
  "language_info": {
   "codemirror_mode": {
    "name": "ipython",
    "version": 3
   },
   "file_extension": ".py",
   "mimetype": "text/x-python",
   "name": "python",
   "nbconvert_exporter": "python",
   "pygments_lexer": "ipython3",
   "version": "3.6.5"
  }
 },
 "nbformat": 4,
 "nbformat_minor": 2
}
