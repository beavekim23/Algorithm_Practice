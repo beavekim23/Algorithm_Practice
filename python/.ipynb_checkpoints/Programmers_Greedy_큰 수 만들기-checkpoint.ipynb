{
 "cells": [
  {
   "cell_type": "markdown",
   "metadata": {},
   "source": [
    "# 큰 수 만들기  \n",
    "> [출처](https://programmers.co.kr/learn/courses/30/lessons/42883)  \n",
    "\n",
    "어떤 숫자에서 k개의 수를 제거했을 때 얻을 수 있는 가장 큰 숫자를 구하려 합니다.\n",
    "\n",
    "예를 들어, 숫자 1924에서 수 두 개를 제거하면 [19, 12, 14, 92, 94, 24] 를 만들 수 있습니다. 이 중 가장 큰 숫자는 94 입니다.\n",
    "\n",
    "문자열 형식으로 숫자 number와 제거할 수의 개수 k가 solution 함수의 매개변수로 주어집니다. number에서 k 개의 수를 제거했을 때 만들 수 있는 수 중 가장 큰 숫자를 문자열 형태로 return 하도록 solution 함수를 완성하세요.\n",
    "\n",
    "제한 조건  \n",
    "- number는 1자리 이상, 1,000,000자리 이하인 숫자입니다.\n",
    "- k는 1 이상 number의 자릿수 미만인 자연수입니다."
   ]
  },
  {
   "cell_type": "markdown",
   "metadata": {},
   "source": [
    "## 예시 살펴보기\n",
    "number = 1924  \n",
    "- 내 앞의 숫자가 나보다 작으면 제거(내가 더 크거나 같은 경우) $\\rightarrow$ 924 되고 count = 1\n",
    "- 2는 해당되지 않으니 지나가고 4로 왔을때 2제거 $\\rightarrow$ 94 되고 count = 2  \n",
    "- loop가 끝났는데도 k만큼 지우지 않았다면 맨 뒤를 지우기"
   ]
  },
  {
   "cell_type": "markdown",
   "metadata": {},
   "source": [
    "## 문제 해결 방법\n",
    "1. 일단 number에서 num을 collected에 넣어놓는다  \n",
    "2. 그 다음 숫자가 들어있는 애 collected[-1]보다 크면 collected.pop()해서 collected에 있던 애 빼내기  \n",
    "3. 다 돌았는데 k만큼 못빠져나갔으면 slicing해주기"
   ]
  },
  {
   "cell_type": "code",
   "execution_count": 19,
   "metadata": {},
   "outputs": [
    {
     "data": {
      "text/plain": [
       "'1'"
      ]
     },
     "execution_count": 19,
     "metadata": {},
     "output_type": "execute_result"
    }
   ],
   "source": [
    "number = 4177252841\n",
    "str_number = str(number)\n",
    "num_list = [i for i in str_number]\n",
    "\n",
    "num_list.pop()"
   ]
  },
  {
   "cell_type": "code",
   "execution_count": 8,
   "metadata": {},
   "outputs": [
    {
     "data": {
      "text/plain": [
       "['4', '1', '7', '2', '5', '2', '8', '4', '1']"
      ]
     },
     "execution_count": 8,
     "metadata": {},
     "output_type": "execute_result"
    }
   ],
   "source": [
    "num_list.pop(2)\n",
    "\n",
    "num_list"
   ]
  },
  {
   "cell_type": "code",
   "execution_count": 20,
   "metadata": {},
   "outputs": [
    {
     "data": {
      "text/plain": [
       "'775841'"
      ]
     },
     "execution_count": 20,
     "metadata": {},
     "output_type": "execute_result"
    }
   ],
   "source": [
    "number = \"4177252841\"\n",
    "k = 4\n",
    "collected = []\n",
    "\n",
    "for idx, num in enumerate(number):\n",
    "    while len(collected)>0 and collected[-1]<num and k>0:\n",
    "        #collected[-1]<num이란 collected에 있는 마지막 수보다 현재 num이 더 크다는 것 => collected에서 빼야됨\n",
    "        collected.pop()\n",
    "        #print(collected)\n",
    "        k-=1\n",
    "    if k == 0:\n",
    "        collected += list(number[idx:])\n",
    "        break\n",
    "    collected.append(num)\n",
    "    \n",
    "collected = collected[:-k] if k > 0 else collected\n",
    "answer = \"\".join(collected)\n",
    "\n",
    "answer"
   ]
  },
  {
   "cell_type": "markdown",
   "metadata": {},
   "source": [
    "## 나의 답"
   ]
  },
  {
   "cell_type": "code",
   "execution_count": 21,
   "metadata": {},
   "outputs": [],
   "source": [
    "def solution(number, k):\n",
    "    collected = []\n",
    "\n",
    "    for idx, num in enumerate(number):\n",
    "        while len(collected)>0 and collected[-1]<num and k>0:\n",
    "            #collected[-1]<num이란 collected에 있는 마지막 수보다 현재 num이 더 크다는 것 => collected에서 빼야됨\n",
    "            collected.pop()\n",
    "            #print(collected)\n",
    "            k-=1\n",
    "        if k == 0:\n",
    "            collected += list(number[idx:])\n",
    "            break\n",
    "        collected.append(num)\n",
    "\n",
    "    collected = collected[:-k] if k > 0 else collected\n",
    "    answer = \"\".join(collected)\n",
    "\n",
    "    return answer"
   ]
  },
  {
   "cell_type": "code",
   "execution_count": 22,
   "metadata": {},
   "outputs": [
    {
     "data": {
      "text/plain": [
       "'775841'"
      ]
     },
     "execution_count": 22,
     "metadata": {},
     "output_type": "execute_result"
    }
   ],
   "source": [
    "#for check\n",
    "number = '4177252841'\n",
    "k = 4\n",
    "solution(number,k) #775841"
   ]
  }
 ],
 "metadata": {
  "kernelspec": {
   "display_name": "Python 3",
   "language": "python",
   "name": "python3"
  },
  "language_info": {
   "codemirror_mode": {
    "name": "ipython",
    "version": 3
   },
   "file_extension": ".py",
   "mimetype": "text/x-python",
   "name": "python",
   "nbconvert_exporter": "python",
   "pygments_lexer": "ipython3",
   "version": "3.6.5"
  }
 },
 "nbformat": 4,
 "nbformat_minor": 2
}
