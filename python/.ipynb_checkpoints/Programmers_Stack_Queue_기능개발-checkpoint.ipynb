{
 "cells": [
  {
   "cell_type": "markdown",
   "metadata": {},
   "source": [
    "# 기능개발\n",
    "> [출처](https://programmers.co.kr/learn/courses/30/lessons/42586)  \n",
    "\n",
    "프로그래머스 팀에서는 기능 개선 작업을 수행 중입니다. 각 기능은 진도가 100%일 때 서비스에 반영할 수 있습니다.  \n",
    "\n",
    "또, 각 기능의 개발속도는 모두 다르기 때문에 뒤에 있는 기능이 앞에 있는 기능보다 먼저 개발될 수 있고, 이때 뒤에 있는 기능은 앞에 있는 기능이 배포될 때 함께 배포됩니다.  \n",
    "\n",
    "먼저 배포되어야 하는 순서대로 작업의 진도가 적힌 정수 배열 progresses와 각 작업의 개발 속도가 적힌 정수 배열 speeds가 주어질 때 각 배포마다 몇 개의 기능이 배포되는지를 return 하도록 solution 함수를 완성하세요.  \n",
    "\n",
    "제한 사항  \n",
    "- 작업의 개수(progresses, speeds배열의 길이)는 100개 이하입니다.  \n",
    "- 작업 진도는 100 미만의 자연수입니다.  \n",
    "- 작업 속도는 100 이하의 자연수입니다.  \n",
    "- 배포는 하루에 한 번만 할 수 있으며, 하루의 끝에 이루어진다고 가정합니다. 예를 들어 진도율이 95%인 작업의 개발 속도가 하루에 4%라면 배포는 2일 뒤에 이루어집니다.  "
   ]
  },
  {
   "cell_type": "markdown",
   "metadata": {},
   "source": [
    "## 문제 파악  \n",
    "- 작업의 개수 = len(progresses) = len(speeds) <= 100  \n",
    "- 기능(progresses의 elem)이 100이 되어야 배포 가능  \n",
    "- 배포는 하루에 한 번, 하루 끝  "
   ]
  },
  {
   "cell_type": "markdown",
   "metadata": {},
   "source": [
    "## 예시 살펴보기\n",
    "Given that  \n",
    "progresses = [93,30,55]  \n",
    "speed = [1,30,5]  \n",
    "\n",
    "첫번째 기능은 (100-93)//1 인 7일 차에 배포 가능\n",
    "두번째 기능은 (100-30)//30+1 인 3일 차에 배포 가능  \n",
    "세번째 기능은 (100-55)//5 인 9일 차에 배포 가능 \n",
    "\n",
    "- 배포 가능 일차 array인 days 생성해서 위 식대로 채워넣기"
   ]
  },
  {
   "cell_type": "markdown",
   "metadata": {},
   "source": [
    "## 문제 풀이 방법  \n",
    "- 배포 가능 일자 array인 days생성  \n",
    "- days 내에서 맨 앞의 elem이 바로 뒤의 것부터 자기보다 작은지 비교해서 해당 되는 애들까지의 길이를 구하고 그 길이를 answer에 append  \n",
    "- 거기까지 slicing하고 뒷부분부터 똑같이 진행  \n",
    "- while len(days) > 0"
   ]
  },
  {
   "cell_type": "code",
   "execution_count": 7,
   "metadata": {},
   "outputs": [
    {
     "data": {
      "text/plain": [
       "[7, 3, 9]"
      ]
     },
     "execution_count": 7,
     "metadata": {},
     "output_type": "execute_result"
    }
   ],
   "source": [
    "# days array 생성 연습\n",
    "\n",
    "progresses = [93,30,55]  \n",
    "speed = [1,30,5]  \n",
    "\n",
    "days = [0]*(len(progresses)) \n",
    "for idx, p in enumerate(progresses):\n",
    "    if (100-p)%speed[idx] == 0:\n",
    "        days[idx] = (100-p)//speed[idx] \n",
    "    else:\n",
    "        days[idx] = (100-p)//speed[idx] + 1\n",
    "    \n",
    "days"
   ]
  },
  {
   "cell_type": "code",
   "execution_count": 12,
   "metadata": {},
   "outputs": [
    {
     "name": "stdout",
     "output_type": "stream",
     "text": [
      "93 30\n"
     ]
    }
   ],
   "source": [
    "progresses = [93,30,55]\n",
    "first = progresses.pop(0)\n",
    "second = progresses[0]\n",
    "\n",
    "print(first, second)"
   ]
  },
  {
   "cell_type": "code",
   "execution_count": 13,
   "metadata": {},
   "outputs": [
    {
     "data": {
      "text/plain": [
       "[30, 55]"
      ]
     },
     "execution_count": 13,
     "metadata": {},
     "output_type": "execute_result"
    }
   ],
   "source": [
    "progresses"
   ]
  },
  {
   "cell_type": "code",
   "execution_count": 15,
   "metadata": {},
   "outputs": [
    {
     "data": {
      "text/plain": [
       "[55]"
      ]
     },
     "execution_count": 15,
     "metadata": {},
     "output_type": "execute_result"
    }
   ],
   "source": [
    "progresses[1:]"
   ]
  },
  {
   "cell_type": "code",
   "execution_count": 19,
   "metadata": {},
   "outputs": [
    {
     "name": "stdout",
     "output_type": "stream",
     "text": [
      "[9]\n"
     ]
    },
    {
     "data": {
      "text/plain": [
       "[2, 2]"
      ]
     },
     "execution_count": 19,
     "metadata": {},
     "output_type": "execute_result"
    }
   ],
   "source": [
    "progresses = [93,30,55]  \n",
    "speed = [1,30,5]  \n",
    "\n",
    "days = [0]*(len(progresses)) \n",
    "for idx, p in enumerate(progresses):\n",
    "    if (100-p)%speed[idx] == 0:\n",
    "        days[idx] = (100-p)//speed[idx] \n",
    "    else:\n",
    "        days[idx] = (100-p)//speed[idx] + 1\n",
    "\n",
    "answer = []\n",
    "while len(days) > 0:\n",
    "    first = days.pop(0)\n",
    "    count = 1\n",
    "    for i in range(len(days)):\n",
    "        second = days[0] #pop한 숫자 바로 다음 숫자\n",
    "        if first >= second:\n",
    "            count += 1\n",
    "            answer.append(count)\n",
    "            days.pop(0)\n",
    "            # print(days)\n",
    "        else:\n",
    "            answer.append(count) #이 때 count는 1\n",
    "            break\n",
    "answer"
   ]
  },
  {
   "cell_type": "markdown",
   "metadata": {},
   "source": [
    "# 나랑 비슷한 다른 사람의 풀이"
   ]
  },
  {
   "cell_type": "code",
   "execution_count": null,
   "metadata": {},
   "outputs": [],
   "source": [
    "def solution(progresses, speeds):\n",
    "    print(progresses)\n",
    "    print(speeds)\n",
    "    answer = []\n",
    "    time = 0\n",
    "    count = 0\n",
    "    while len(progresses)> 0:\n",
    "        if (progresses[0] + time*speeds[0]) >= 100:\n",
    "            progresses.pop(0)\n",
    "            speeds.pop(0)\n",
    "            count += 1\n",
    "        else:\n",
    "            if count > 0:\n",
    "                answer.append(count)\n",
    "                count = 0\n",
    "            time += 1\n",
    "    answer.append(count)\n",
    "    return answer"
   ]
  },
  {
   "cell_type": "markdown",
   "metadata": {},
   "source": [
    "## 다른 사람의 풀이"
   ]
  },
  {
   "cell_type": "code",
   "execution_count": 20,
   "metadata": {},
   "outputs": [],
   "source": [
    "def solution(progresses, speeds):\n",
    "    Q=[]\n",
    "    for p, s in zip(progresses, speeds):\n",
    "        if len(Q)==0 or Q[-1][0]<-((p-100)//s):\n",
    "            Q.append([-((p-100)//s),1])\n",
    "        else:\n",
    "            Q[-1][1]+=1\n",
    "    return [q[1] for q in Q]"
   ]
  },
  {
   "cell_type": "code",
   "execution_count": 21,
   "metadata": {},
   "outputs": [
    {
     "data": {
      "text/plain": [
       "[2, 1]"
      ]
     },
     "execution_count": 21,
     "metadata": {},
     "output_type": "execute_result"
    }
   ],
   "source": [
    "#for check\n",
    "progresses = [93,30,55]\n",
    "speed = [1,30,5]\n",
    "solution(progresses, speed) #[2,1]"
   ]
  }
 ],
 "metadata": {
  "kernelspec": {
   "display_name": "Python 3",
   "language": "python",
   "name": "python3"
  },
  "language_info": {
   "codemirror_mode": {
    "name": "ipython",
    "version": 3
   },
   "file_extension": ".py",
   "mimetype": "text/x-python",
   "name": "python",
   "nbconvert_exporter": "python",
   "pygments_lexer": "ipython3",
   "version": "3.6.5"
  }
 },
 "nbformat": 4,
 "nbformat_minor": 2
}
