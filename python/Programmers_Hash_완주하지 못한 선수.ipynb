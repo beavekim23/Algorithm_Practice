{
 "cells": [
  {
   "cell_type": "markdown",
   "metadata": {},
   "source": [
    "# 완주하지 못한 선수\n",
    "> [출처](https://programmers.co.kr/learn/courses/30/lessons/42576)    \n",
    "\n",
    "수많은 마라톤 선수들이 마라톤에 참여하였습니다. 단 한 명의 선수를 제외하고는 모든 선수가 마라톤을 완주하였습니다. 마라톤에 참여한 선수들의 이름이 담긴 배열 participant와 완주한 선수들의 이름이 담긴 배열 completion이 주어질 때, 완주하지 못한 선수의 이름을 return 하도록 solution 함수를 작성해주세요.\n",
    "\n",
    "제한사항  \n",
    "- 마라톤 경기에 참여한 선수의 수는 1명 이상 100,000명 이하입니다.  \n",
    "- completion의 길이는 participant의 길이보다 1 작습니다.  \n",
    "- 참가자의 이름은 1개 이상 20개 이하의 알파벳 소문자로 이루어져 있습니다.  \n",
    "- 참가자 중에는 동명이인이 있을 수 있습니다."
   ]
  },
  {
   "cell_type": "markdown",
   "metadata": {},
   "source": [
    "## 문제 살펴보기  \n",
    "- 숫자가 아닌 문자열이 주어지기 때문에 배열보다는 dict가 편함  \n",
    "- 참가자 이름이 알파벳 소문자로 알아서 통일 되어 있음  \n",
    "- 동명이인이 있을 수 있기때문에 set사용해서 빼는 건 사용할 수 없음"
   ]
  },
  {
   "cell_type": "markdown",
   "metadata": {},
   "source": [
    "## 예시 살펴보기  \n",
    "participant = ['mislav', 'stanko', 'mislav', 'ana']  \n",
    "completion = ['stanko', 'ana', 'mislav']  \n",
    "\n",
    "- 비어 있는 dict d={} 생성하고 이름을 key, 횟수를 value로 함    \n",
    "- 이름이 participant에 있다면 횟수를 +1해서 d에 추가  \n",
    "- 이름이 completion에 있다면 횟수를 -1해서 d에 추가\n",
    "- 최종 answer은 d에서 value > 0인 key"
   ]
  },
  {
   "cell_type": "code",
   "execution_count": 1,
   "metadata": {},
   "outputs": [
    {
     "data": {
      "text/plain": [
       "'mislav'"
      ]
     },
     "execution_count": 1,
     "metadata": {},
     "output_type": "execute_result"
    }
   ],
   "source": [
    "participant = ['mislav', 'stanko', 'mislav', 'ana']\n",
    "completion = ['stanko', 'ana', 'mislav']\n",
    "\n",
    "d = {}\n",
    "dnf = []\n",
    "\n",
    "for p in participant:\n",
    "    d[p] = d.get(p, 0) + 1\n",
    "for c in completion:\n",
    "    d[c] = d.get(c) - 1\n",
    "\n",
    "for x in d:\n",
    "    if d[x] > 0:\n",
    "        dnf.append(x)\n",
    "        \n",
    "answer = \",\".join(dnf)\n",
    "answer"
   ]
  },
  {
   "cell_type": "markdown",
   "metadata": {},
   "source": [
    "## 나의 답"
   ]
  },
  {
   "cell_type": "code",
   "execution_count": 5,
   "metadata": {},
   "outputs": [],
   "source": [
    "def solution(participant, completion):\n",
    "    d = {}\n",
    "    dnf = [] #did not finish\n",
    "    \n",
    "    for p in participant:\n",
    "        d[p] = d.get(p, 0) + 1\n",
    "    for c in completion:\n",
    "        d[c] = d.get(c) - 1\n",
    "\n",
    "    for x in d:\n",
    "        if d[x] > 0:\n",
    "            dnf.append(x)\n",
    "\n",
    "    answer = \",\".join(dnf)\n",
    "    \n",
    "    return answer"
   ]
  },
  {
   "cell_type": "code",
   "execution_count": 6,
   "metadata": {},
   "outputs": [
    {
     "data": {
      "text/plain": [
       "'mislav'"
      ]
     },
     "execution_count": 6,
     "metadata": {},
     "output_type": "execute_result"
    }
   ],
   "source": [
    "#for check\n",
    "participant = ['mislav', 'stanko', 'mislav', 'ana']\n",
    "completion = ['stanko', 'ana', 'mislav']\n",
    "solution(participant, completion)#return \"mislav\""
   ]
  },
  {
   "cell_type": "markdown",
   "metadata": {},
   "source": [
    "## 다른 사람의 풀이"
   ]
  },
  {
   "cell_type": "code",
   "execution_count": 9,
   "metadata": {},
   "outputs": [],
   "source": [
    "def solution(participant, completion):\n",
    "    d = {}\n",
    "    for x in participant:\n",
    "        d[x] = d.get(x, 0) + 1 \n",
    "    \n",
    "    for x in completion:\n",
    "        d[x] -= 1 \n",
    "        \n",
    "    dnf = [k for k,v in d.items() if v > 0] \n",
    "    #dict.items()를 통해 key, value 동시에 추출해서 각각 k, v에 할당\n",
    "    answer = dnf\n",
    "    return \",\".join(answer)"
   ]
  },
  {
   "cell_type": "code",
   "execution_count": 10,
   "metadata": {},
   "outputs": [
    {
     "data": {
      "text/plain": [
       "'mislav'"
      ]
     },
     "execution_count": 10,
     "metadata": {},
     "output_type": "execute_result"
    }
   ],
   "source": [
    "#for check\n",
    "participant = ['mislav', 'stanko', 'mislav', 'ana']\n",
    "completion = ['stanko', 'ana', 'mislav']\n",
    "solution(participant, completion)#return \"mislav\""
   ]
  }
 ],
 "metadata": {
  "kernelspec": {
   "display_name": "Python 3",
   "language": "python",
   "name": "python3"
  },
  "language_info": {
   "codemirror_mode": {
    "name": "ipython",
    "version": 3
   },
   "file_extension": ".py",
   "mimetype": "text/x-python",
   "name": "python",
   "nbconvert_exporter": "python",
   "pygments_lexer": "ipython3",
   "version": "3.6.5"
  }
 },
 "nbformat": 4,
 "nbformat_minor": 2
}
