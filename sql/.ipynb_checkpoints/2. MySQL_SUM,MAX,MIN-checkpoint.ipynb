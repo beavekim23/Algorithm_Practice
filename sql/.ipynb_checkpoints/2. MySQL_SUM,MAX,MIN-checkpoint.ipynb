{
 "cells": [
  {
   "cell_type": "markdown",
   "metadata": {},
   "source": [
    "# 1. 최댓값 구하기\n",
    "> [출처](https://programmers.co.kr/learn/courses/30/lessons/59415)\n",
    "\n",
    "가장 최근에 들어온 동물은 언제 들어왔는지 조회하는 SQL 문을 작성해주세요."
   ]
  },
  {
   "cell_type": "code",
   "execution_count": null,
   "metadata": {},
   "outputs": [],
   "source": [
    "\"\"\"\n",
    "SELECT MAX(DATETIME) AS 시간\n",
    "FROM ANIMAL_INS;\n",
    "\"\"\""
   ]
  },
  {
   "cell_type": "markdown",
   "metadata": {},
   "source": [
    "# 2. 최솟값 구하기\n",
    "> [출처](https://programmers.co.kr/learn/courses/30/lessons/59038)\n",
    "\n",
    "동물 보호소에 가장 먼저 들어온 동물은 언제 들어왔는지 조회하는 SQL 문을 작성해주세요."
   ]
  },
  {
   "cell_type": "code",
   "execution_count": null,
   "metadata": {},
   "outputs": [],
   "source": [
    "\"\"\"\n",
    "SELECT MIN(DATETIME) AS 시간\n",
    "    FROM ANIMAL_INS;\n",
    "\"\"\""
   ]
  },
  {
   "cell_type": "markdown",
   "metadata": {},
   "source": [
    "# 3. 동물 수 구하기 \n",
    "> [출처](https://programmers.co.kr/learn/courses/30/lessons/59406)\n",
    "\n",
    "동물 보호소에 동물이 몇 마리 들어왔는지 조회하는 SQL 문을 작성해주세요."
   ]
  },
  {
   "cell_type": "code",
   "execution_count": null,
   "metadata": {},
   "outputs": [],
   "source": [
    "\"\"\"\n",
    "SELECT COUNT(ANIMAL_ID) FROM ANIMAL_INS;\n",
    "\"\"\""
   ]
  },
  {
   "cell_type": "markdown",
   "metadata": {},
   "source": [
    "# 4. 중복 제거하기\n",
    "> [출처](https://programmers.co.kr/learn/courses/30/lessons/59408)\n",
    "\n",
    "동물 보호소에 들어온 동물의 이름은 몇 개인지 조회하는 SQL 문을 작성해주세요. 이때 이름이 NULL인 경우는 집계하지 않으며 중복되는 이름은 하나로 칩니다."
   ]
  },
  {
   "cell_type": "code",
   "execution_count": null,
   "metadata": {},
   "outputs": [],
   "source": [
    "\"\"\"\n",
    "SELECT COUNT(DISTINCT NAME) FROM ANIMAL_INS;\n",
    "\"\"\""
   ]
  }
 ],
 "metadata": {
  "kernelspec": {
   "display_name": "Python 3",
   "language": "python",
   "name": "python3"
  },
  "language_info": {
   "codemirror_mode": {
    "name": "ipython",
    "version": 3
   },
   "file_extension": ".py",
   "mimetype": "text/x-python",
   "name": "python",
   "nbconvert_exporter": "python",
   "pygments_lexer": "ipython3",
   "version": "3.6.5"
  }
 },
 "nbformat": 4,
 "nbformat_minor": 2
}
