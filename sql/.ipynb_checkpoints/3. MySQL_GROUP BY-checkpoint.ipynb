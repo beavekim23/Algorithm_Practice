{
 "cells": [
  {
   "cell_type": "markdown",
   "metadata": {},
   "source": [
    "ANIMAL_INS 테이블은 동물 보호소에 들어온 동물의 정보를 담은 테이블입니다. ANIMAL_INS 테이블 구조는 다음과 같으며, ANIMAL_ID, ANIMAL_TYPE, DATETIME, INTAKE_CONDITION, NAME, SEX_UPON_INTAKE는 각각 동물의 아이디, 생물 종, 보호 시작일, 보호 시작 시 상태, 이름, 성별 및 중성화 여부를 나타냅니다."
   ]
  },
  {
   "cell_type": "markdown",
   "metadata": {},
   "source": [
    "# 1. 고양이와 개는 몇 마리 있을까  \n",
    "> [출처](https://programmers.co.kr/learn/courses/30/lessons/59040)\n",
    "\n",
    "동물 보호소에 들어온 동물 중 고양이와 개가 각각 몇 마리인지 조회하는 SQL문을 작성해주세요. 이때 고양이가 개보다 먼저 조회해주세요."
   ]
  },
  {
   "cell_type": "markdown",
   "metadata": {},
   "source": [
    "```\n",
    "SELECT ANIMAL_TYPE, COUNT(*) AS count FROM ANIMAL_INS\n",
    "GROUP BY ANIMAL_TYPE\n",
    "ORDER BY ANIMAL_TYPE;\n",
    "```"
   ]
  },
  {
   "cell_type": "markdown",
   "metadata": {},
   "source": [
    "# 2. 동명 동물 수 찾기\n",
    "> [출처](https://programmers.co.kr/learn/courses/30/lessons/59041)\n",
    "\n",
    "동물 보호소에 들어온 동물 이름 중 두 번 이상 쓰인 이름과 해당 이름이 쓰인 횟수를 조회하는 SQL문을 작성해주세요. 이때 결과는 이름이 없는 동물은 집계에서 제외하며, 결과는 이름 순으로 조회해주세요."
   ]
  },
  {
   "cell_type": "markdown",
   "metadata": {},
   "source": [
    "```\n",
    "SELECT NAME, COUNT(*) AS COUNT FROM ANIMAL_INS\n",
    "GROUP BY NAME\n",
    "HAVING COUNT(NAME) >= 2 \n",
    "ORDER BY NAME;\n",
    "```"
   ]
  },
  {
   "cell_type": "markdown",
   "metadata": {},
   "source": [
    "# 3. 입양시각구하기(1)\n",
    "> [출처](https://programmers.co.kr/learn/courses/30/lessons/59412)  \n",
    "\n",
    "보호소에서는 몇 시에 입양이 가장 활발하게 일어나는지 알아보려 합니다. 9시부터 19시까지, 각 시간대별로 입양이 몇 건이나 발생했는지 조회하는 SQL문을 작성해주세요. 이때 결과는 시간대 순으로 정렬해야 합니다."
   ]
  },
  {
   "cell_type": "markdown",
   "metadata": {},
   "source": [
    "```\n",
    "SELECT EXTRACT(HOUR FROM DATETIME) AS \"HOUR\", COUNT(DATETIME) AS \"COUNT\" FROM ANIMAL_OUTS\n",
    "GROUP BY HOUR\n",
    "HAVING HOUR >= 9 AND HOUR <= 19\n",
    "ORDER BY HOUR;\n",
    "```"
   ]
  },
  {
   "cell_type": "markdown",
   "metadata": {},
   "source": [
    "# 4. 입양시각구하기(2) \n",
    "> [출처](https://programmers.co.kr/learn/courses/30/lessons/59413)\n",
    "\n",
    "보호소에서는 몇 시에 입양이 가장 활발하게 일어나는지 알아보려 합니다. 0시부터 23시까지, 각 시간대별로 입양이 몇 건이나 발생했는지 조회하는 SQL문을 작성해주세요. 이때 결과는 시간대 순으로 정렬해야 합니다."
   ]
  },
  {
   "cell_type": "markdown",
   "metadata": {},
   "source": [
    "```\n",
    "SELECT H1.HOUR, IFNULL(H2.COUNT, 0)\n",
    "FROM (\n",
    "    SELECT 0 as HOUR\n",
    "    UNION SELECT 1 UNION SELECT 2 UNION SELECT 3 UNION SELECT 4 UNION SELECT 5 \n",
    "    UNION SELECT 6 UNION SELECT 7 UNION SELECT 8 UNION SELECT 9 UNION SELECT 10\n",
    "    UNION SELECT 11 UNION SELECT 12 UNION SELECT 13 UNION SELECT 14 UNION SELECT 15\n",
    "    UNION SELECT 15 UNION SELECT 16 UNION SELECT 17 UNION SELECT 18 UNION SELECT 19\n",
    "    UNION SELECT 20 UNION SELECT 21 UNION SELECT 22 UNION SELECT 23) H1\n",
    "LEFT JOIN (\n",
    "    SELECT HOUR(DATETIME) AS 'HOUR', COUNT(*) AS 'count'\n",
    "    FROM ANIMAL_OUTS\n",
    "    GROUP BY HOUR) AS H2 \n",
    "ON H1.HOUR = H2.HOUR \n",
    "ORDER BY H1.HOUR;\n",
    "```"
   ]
  },
  {
   "cell_type": "markdown",
   "metadata": {},
   "source": [
    "- 마지막 문제는 테이블에 나오지 않은 시간도 포함되어 있고, COUNT가 0인 경우도 처리해야 해서 어려움"
   ]
  }
 ],
 "metadata": {
  "kernelspec": {
   "display_name": "Python 3",
   "language": "python",
   "name": "python3"
  },
  "language_info": {
   "codemirror_mode": {
    "name": "ipython",
    "version": 3
   },
   "file_extension": ".py",
   "mimetype": "text/x-python",
   "name": "python",
   "nbconvert_exporter": "python",
   "pygments_lexer": "ipython3",
   "version": "3.6.5"
  }
 },
 "nbformat": 4,
 "nbformat_minor": 2
}
