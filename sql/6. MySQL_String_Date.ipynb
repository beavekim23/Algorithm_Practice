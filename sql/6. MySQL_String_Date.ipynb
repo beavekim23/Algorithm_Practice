{
 "cells": [
  {
   "cell_type": "markdown",
   "metadata": {},
   "source": [
    "# 1. 루시와 엘라 찾기\n",
    ">[출처](https://programmers.co.kr/learn/courses/30/lessons/59046)  \n",
    "\n",
    "동물 보호소에 들어온 동물 중 이름이 Lucy, Ella, Pickle, Rogan, Sabrina, Mitty인 동물의 아이디와 이름, 성별을 조회하는 SQL 문을 작성해주세요. 이때 결과는 아이디 순으로 조회해주세요."
   ]
  },
  {
   "cell_type": "markdown",
   "metadata": {},
   "source": [
    "```\n",
    "SELECT ANIMAL_ID, NAME, SEX_UPON_INTAKE \n",
    "FROM ANIMAL_INS\n",
    "WHERE NAME IN ('Lucy', 'Ella', 'Pickle', 'Rpgan', 'Sabrina', 'Mitty')\n",
    "ORDER BY ANIMAL_ID;\n",
    "```"
   ]
  },
  {
   "cell_type": "markdown",
   "metadata": {},
   "source": [
    "# 2. 이름에 el이 들어가는 동물 찾기\n",
    ">[출처](https://programmers.co.kr/learn/courses/30/lessons/59047)  \n",
    "\n",
    "보호소에 돌아가신 할머니가 기르던 개를 찾는 사람이 찾아왔습니다. 이 사람이 말하길 할머니가 기르던 개는 이름에 'el'이 들어간다고 합니다. 동물 보호소에 들어온 동물 이름 중, 이름에 EL이 들어가는 개의 아이디와 이름을 조회하는 SQL문을 작성해주세요. 이때 결과는 이름 순으로 조회해주세요. 단, 이름의 대소문자는 구분하지 않습니다."
   ]
  },
  {
   "cell_type": "markdown",
   "metadata": {},
   "source": [
    "```\n",
    "SELECT ANIMAL_ID, NAME FROM ANIMAL_INS\n",
    "WHERE ANIMAL_TYPE = 'Dog'\n",
    "AND NAME LIKE '%EL%'\n",
    "ORDER BY NAME;\n",
    "```"
   ]
  },
  {
   "cell_type": "markdown",
   "metadata": {},
   "source": [
    "- 문자열의 일부분을 포함하는 값들을 찾을 때 LIKE절을 사용한다. Column LIKE '표현식' 과 같은 방법으로 사용한다. '표현식'의 형태는 정규표현식과 유사하다. 이 문제에서는 el만 표함되면 된다 했으므로 앞 뒤로 몇개가 있어도 상관없는지를 나타내는 %를 앞뒤로 사용한다. \n",
    "- [출처](https://codedrive.tistory.com/261)"
   ]
  },
  {
   "cell_type": "markdown",
   "metadata": {},
   "source": [
    "# 3. 중성화 여부 파악하기\n",
    ">[출처](https://programmers.co.kr/learn/courses/30/lessons/59409)  \n",
    "\n",
    "보호소의 동물이 중성화되었는지 아닌지 파악하려 합니다. 중성화된 동물은 SEX_UPON_INTAKE 컬럼에 'Neutered' 또는 'Spayed'라는 단어가 들어있습니다. 동물의 아이디와 이름, 중성화 여부를 아이디 순으로 조회하는 SQL문을 작성해주세요. 이때 중성화가 되어있다면 'O', 아니라면 'X'라고 표시해주세요."
   ]
  },
  {
   "cell_type": "markdown",
   "metadata": {},
   "source": [
    "```\n",
    "SELECT ANIMAL_ID, NAME, IF(SEX_UPON_INTAKE LIKE 'Intact%', 'X', 'O')\n",
    "FROM ANIMAL_INS\n",
    "ORDER BY ANIMAL_ID;\n",
    "```"
   ]
  },
  {
   "cell_type": "markdown",
   "metadata": {},
   "source": [
    "#### 또는"
   ]
  },
  {
   "cell_type": "markdown",
   "metadata": {},
   "source": [
    "```\n",
    "SELECT ANIMAL_ID, NAME, CASE\n",
    "WHEN SEX_UPON_INTAKE LIKE '%NEUTERED%' THEN 'O'\n",
    "WHEN SEX_UPON_INTAKE LIKE '%SPRAYED%' THEN 'O'\n",
    "ELSE 'X'\n",
    "END AS '중성화'\n",
    "FROM ANIMAL_INS\n",
    "ORDER BY ANIMAL_ID;\n",
    "```"
   ]
  },
  {
   "cell_type": "markdown",
   "metadata": {},
   "source": [
    "# 4. 오랜 기간 보호한 동물 (2)\n",
    ">[출처](https://programmers.co.kr/learn/courses/30/lessons/59411)  \n",
    "\n",
    "ANIMAL_OUTS 테이블은 동물 보호소에서 입양 보낸 동물의 정보를 담은 테이블입니다. ANIMAL_OUTS 테이블 구조는 다음과 같으며, ANIMAL_ID, ANIMAL_TYPE, DATETIME, NAME, SEX_UPON_OUTCOME는 각각 동물의 아이디, 생물 종, 입양일, 이름, 성별 및 중성화 여부를 나타냅니다. ANIMAL_OUTS 테이블의 ANIMAL_ID는 ANIMAL_INS의 ANIMAL_ID의 외래 키입니다.  \n",
    "\n",
    "입양을 간 동물 중, 보호 기간이 가장 길었던 동물 두 마리의 아이디와 이름을 조회하는 SQL문을 작성해주세요. 이때 결과는 보호 기간이 긴 순으로 조회해야 합니다."
   ]
  },
  {
   "cell_type": "markdown",
   "metadata": {},
   "source": [
    "```\n",
    "SELECT I.ANIMAL_ID, I.NAME FROM ANIMAL_INS I\n",
    "JOIN ANIMAL_OUTS O\n",
    "ON I.ANIMAL_ID = O.ANIMAL_ID\n",
    "ORDER BY DATEDIFF(I.DATETIME, O.DATETIME)\n",
    "LIMIT 2;\n",
    "```"
   ]
  },
  {
   "cell_type": "markdown",
   "metadata": {},
   "source": [
    "#### 또는"
   ]
  },
  {
   "cell_type": "markdown",
   "metadata": {},
   "source": [
    "```\n",
    "SELECT I.ANIMAL_ID, I.NAME FROM ANIMAL_INS I, ANIMAL_OUTS O\n",
    "WHERE I.ANIMAL_ID = O.ANIMAL_ID\n",
    "ORDER BY DATEDIFF(I.DATETIME, O.DATETIME)\n",
    "LIMIT 2;\n",
    "```"
   ]
  },
  {
   "cell_type": "markdown",
   "metadata": {},
   "source": [
    "- DATEDIFF(DATE1, DATE2)를 사용해서 풀 수 있었습니다. DATEDIFF는 Day의 차이를 반환하고, TIMESTAMPDIFF(단위, DATE1, DATE2)는 단위별로 차이를 구할 수 있습니다.  \n",
    "- 단위  \n",
    "  - SECOND : 초  \n",
    "  - MINUTE : 분  \n",
    "  - HOUR : 시  \n",
    "  - DAY : 일  \n",
    "  - WEEK : 주  \n",
    "  - MONTH : 월  \n",
    "  - QUARTER : 분기  \n",
    "  - YEAR : 연  \n",
    "\n",
    "[출처](https://murra.tistory.com/156)"
   ]
  },
  {
   "cell_type": "markdown",
   "metadata": {},
   "source": [
    "# DATETIME에서 DATE로 형변환\n",
    ">[출처](https://programmers.co.kr/learn/courses/30/lessons/59414)  \n",
    "\n",
    "ANIMAL_INS 테이블에 등록된 모든 레코드에 대해, 각 동물의 아이디와 이름, 들어온 날짜1를 조회하는 SQL문을 작성해주세요. 이때 결과는 아이디 순으로 조회해야 합니다."
   ]
  },
  {
   "cell_type": "markdown",
   "metadata": {},
   "source": [
    "```\n",
    "SELECT ANIMAL_ID, NAME, DATE_FORMAT(DATETIME, '%Y-%m-%d') AS 날짜 \n",
    "FROM ANIMAL_INS\n",
    "ORDER BY ANIMAL_ID;\n",
    "```"
   ]
  },
  {
   "cell_type": "markdown",
   "metadata": {},
   "source": [
    "- DATE_FORMAT(DATE, 형식)을 통해 DATE의 형식을 바꿀 수 있습니다.  \n",
    "  - 형식에는 %Y(4자리 연도), %y(2자리 연도), %m(월), %d(일), %H(24시간), %h(12시간), %i, %s가 있습니다.\n",
    "\n",
    "[출처](https://murra.tistory.com/157?category=728421)"
   ]
  }
 ],
 "metadata": {
  "kernelspec": {
   "display_name": "Python 3",
   "language": "python",
   "name": "python3"
  },
  "language_info": {
   "codemirror_mode": {
    "name": "ipython",
    "version": 3
   },
   "file_extension": ".py",
   "mimetype": "text/x-python",
   "name": "python",
   "nbconvert_exporter": "python",
   "pygments_lexer": "ipython3",
   "version": "3.6.5"
  }
 },
 "nbformat": 4,
 "nbformat_minor": 2
}
